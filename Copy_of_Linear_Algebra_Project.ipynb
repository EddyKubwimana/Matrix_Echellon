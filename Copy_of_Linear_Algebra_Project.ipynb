{
  "nbformat": 4,
  "nbformat_minor": 0,
  "metadata": {
    "colab": {
      "provenance": [],
      "include_colab_link": true
    },
    "kernelspec": {
      "name": "python3",
      "display_name": "Python 3"
    },
    "language_info": {
      "name": "python"
    }
  },
  "cells": [
    {
      "cell_type": "markdown",
      "metadata": {
        "id": "view-in-github",
        "colab_type": "text"
      },
      "source": [
        "<a href=\"https://colab.research.google.com/github/EddyKubwimana/Matrix_Echellon/blob/main/Copy_of_Linear_Algebra_Project.ipynb\" target=\"_parent\"><img src=\"https://colab.research.google.com/assets/colab-badge.svg\" alt=\"Open In Colab\"/></a>"
      ]
    },
    {
      "cell_type": "code",
      "execution_count": 5,
      "metadata": {
        "id": "arHx7dSk5C0a"
      },
      "outputs": [],
      "source": [
        "import sympy\n",
        "import numpy as np\n",
        "import pandas as pd\n",
        "import matplotlib.pyplot as plt\n",
        "import seaborn as sns\n",
        "from mpl_toolkits.mplot3d import Axes3D\n",
        "import numpy as np\n",
        "import matplotlib.pyplot as plt\n",
        "from mpl_toolkits.mplot3d import Axes3D\n",
        "from sympy import Matrix\n",
        "import numpy as np"
      ]
    },
    {
      "cell_type": "code",
      "source": [
        "from sympy.core.numbers import E\n",
        "def instruction():\n",
        "\n",
        "  x = True\n",
        "  while x:\n",
        "\n",
        "    try:\n",
        "      print(\"======= How many rows is your matrix? ============\")\n",
        "      rows = int(input(\"======>:\"))\n",
        "      print(\"======= How many columns is your matrix? ============\")\n",
        "      columns= int(input(\"======>:\"))\n",
        "      x = False\n",
        "    except:\n",
        "      print(\"!!! Wrong input, try again\")\n",
        "\n",
        "\n",
        "  print()\n",
        "\n",
        "  print(\"! =======instruction============= !\")\n",
        "  print()\n",
        "\n",
        "  print('1.==> The matrix is entered row wise')\n",
        "  print('2.==> The matrix will be show to you after to confirm if it is correct')\n",
        "  print(\"3.==> separate each value with the other with a comma [,]\")\n",
        "\n",
        "\n",
        "  return (rows, columns)\n",
        "\n",
        "\n",
        "def takeInput():\n",
        "\n",
        "  matrix=[]\n",
        "  rows, columns = instruction()\n",
        "\n",
        "  for row in range(rows):\n",
        "\n",
        "    array_row=[]\n",
        "    print(f\"======Enter your { row+ 1 } row in augmented format AX = B ==>[A,B]========> \")\n",
        "    row_input = input()\n",
        "    values = row_input.split(\",\")\n",
        "    print(values)\n",
        "\n",
        "    while len(values) != columns:\n",
        "\n",
        "      print(f\"======You made a mistake in entering  { row+ 1 } repeat again ========> \")\n",
        "      row_input = input(\"===>: \")\n",
        "      values = row_input.split(\",\")\n",
        "\n",
        "    for value in values:\n",
        "\n",
        "      try:\n",
        "\n",
        "        array_row.append(int(value))\n",
        "\n",
        "      except:\n",
        "        x = True\n",
        "        while x:\n",
        "          print(f\"{ value } is not a number enter it again \")\n",
        "          x =False\n",
        "\n",
        "          try:\n",
        "            n = int(input(\"===>\"))\n",
        "\n",
        "          except:\n",
        "\n",
        "            print(\" { your input is not a number, try again}\")\n",
        "\n",
        "\n",
        "\n",
        "    matrix.append(array_row)\n",
        "\n",
        "  return np.array(matrix)\n"
      ],
      "metadata": {
        "id": "vGiDQD466Cl-"
      },
      "execution_count": 6,
      "outputs": []
    },
    {
      "cell_type": "code",
      "source": [
        "\n",
        "def parametric(matrix):\n",
        "  '''\n",
        "  - Takes a matrix of any dimension\n",
        "  - Return a solution set for the matrix\n",
        "\n",
        "  '''\n",
        "\n",
        "  # solution set list\n",
        "  parametric_matrix = []\n",
        "\n",
        "  # matrix to reduce\n",
        "  matrix_to_reduce = Matrix(matrix)\n",
        "\n",
        "  # built-in method to low reduce a linear combination system w\n",
        "  # echelon_matrix variable holds the  reduced matrix\n",
        "  # pivot_colums variable holds the tuples that contains the pivots columns\n",
        "\n",
        "  grousolution = matrix_to_reduce.rref()\n",
        "\n",
        "  _,pivot = grousolution\n",
        "\n",
        "  solution1 = matrix_to_reduce.nullspace()\n",
        "\n",
        "  array_solution = np.array(solution1)\n",
        "\n",
        "  non_homogeneous = array_solution[:, :-1]\n",
        "  homogeneous = non_homogeneous[-1:,:]\n",
        "\n",
        "  return (homogeneous ,non_homogeneous,pivot)\n"
      ],
      "metadata": {
        "id": "YW8om1TfLm3f"
      },
      "execution_count": 7,
      "outputs": []
    },
    {
      "cell_type": "code",
      "source": [
        "\n",
        "\n",
        "# Method to do the parametric form of a linear sytem\n",
        "\n",
        "def parametric(matrix):\n",
        "  '''\n",
        "  - Takes a matrix of any dimension\n",
        "  - Return a solution set for the matrix\n",
        "\n",
        "  '''\n",
        "\n",
        "  # solution set list\n",
        "  parametric_matrix = []\n",
        "\n",
        "  # matrix to reduce\n",
        "  matrix_to_reduce = Matrix(matrix)\n",
        "\n",
        "  # built-in method to low reduce a linear combination system w\n",
        "  # echelon_matrix variable holds the  reduced matrix\n",
        "  # pivot_colums variable holds the tuples that contains the pivots columns\n",
        "\n",
        "  grousolution = matrix_to_reduce.rref()\n",
        "\n",
        "  _,pivot = grousolution\n",
        "\n",
        "  solution1 = matrix_to_reduce.nullspace()\n",
        "\n",
        "  array_solution = np.array(solution1)\n",
        "\n",
        "  non_homogeneous = array_solution[:, :-1]\n",
        "  homogeneous = non_homogeneous[-1:,:]\n",
        "\n",
        "  return (homogeneous ,non_homogeneous,pivot)\n"
      ],
      "metadata": {
        "id": "wsLNk9nQQfXG"
      },
      "execution_count": 8,
      "outputs": []
    }
  ]
}